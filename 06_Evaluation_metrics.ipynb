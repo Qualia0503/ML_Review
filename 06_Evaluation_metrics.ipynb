{
 "cells": [
  {
   "cell_type": "markdown",
   "metadata": {},
   "source": [
    "### 00 Evaluation metrics"
   ]
  },
  {
   "cell_type": "markdown",
   "metadata": {},
   "source": [
    "When it comes to machine learning problems, you will encounter a lot of different types     \n",
    "of metrics in the real world.       \n",
    "We will focus on supervised. The reason for this is because supervised problems are in      \n",
    "abundance compared to un-supervised, and evaluation of unsupervised methods is quite subjective."
   ]
  },
  {
   "cell_type": "markdown",
   "metadata": {},
   "source": [
    "- Classification\n",
    "    - Accuracy\n",
    "    - Precision(P)\n",
    "    - Recall(R)\n",
    "    - F1 score(F1)\n",
    "    - Area under the ROC(Receiver Operating Characteristic) curve or simply AUC(AUC)\n",
    "    - Log loss\n",
    "    - Precision at k(P@k)\n",
    "    - Average precision at k(AP@k)\n",
    "    - Mean average precision at k(MAP@k)\n"
   ]
  },
  {
   "cell_type": "markdown",
   "metadata": {},
   "source": [
    "- Regression\n",
    "    - Mean absolute error(MAE)\n",
    "    - Mean squared error(MSE)\n",
    "    - Root mean squared error(RMSE)\n",
    "    - Root mean squared logarithmic error(RMSLE)\n",
    "    - Mean percentage error(MPE)\n",
    "    - Mean absolute percentage error(MAPE)\n",
    "    - R^2"
   ]
  },
  {
   "cell_type": "markdown",
   "metadata": {},
   "source": [
    "### 01 Accuracy"
   ]
  },
  {
   "cell_type": "markdown",
   "metadata": {},
   "source": [
    "Accuracy Score = (TP + TN) / (TP + TN + FP + FN) "
   ]
  },
  {
   "cell_type": "code",
   "execution_count": null,
   "metadata": {},
   "outputs": [],
   "source": [
    "def accuracy(y_true, y_pred): \n",
    "    \"\"\" \n",
    "    Function to calculate accuracy \n",
    "    :param y_true: list of true values \n",
    "    :param y_pred: list of predicted values \n",
    "    :return: accuracy score \n",
    "    \"\"\" \n",
    "    # initialize a simple counter for correct predictions \n",
    "    correct_counter = 0 \n",
    "    # loop over all elements of y_true \n",
    "    # and y_pred \"together\" \n",
    "    for yt, yp in zip(y_true, y_pred): \n",
    "        if yt == yp: \n",
    "            # if prediction is equal to truth, increase the counter \n",
    "            correct_counter += 1 \n",
    "    # return accuracy \n",
    "    # which is correct predictions over the number of samples \n",
    "    return correct_counter / len(y_true) "
   ]
  },
  {
   "cell_type": "code",
   "execution_count": 1,
   "metadata": {},
   "outputs": [
    {
     "data": {
      "text/plain": [
       "0.7"
      ]
     },
     "execution_count": 1,
     "metadata": {},
     "output_type": "execute_result"
    }
   ],
   "source": [
    "from sklearn import metrics\n",
    "\n",
    "l1 = [0, 1, 1, 1, 0, 0, 1, 0, 0, 1]\n",
    "l2 = [0, 1, 0, 1, 0, 0, 1, 1, 1, 1]\n",
    "\n",
    "metrics.accuracy_score(l1, l2) "
   ]
  },
  {
   "cell_type": "markdown",
   "metadata": {},
   "source": [
    "### 02 Precision"
   ]
  },
  {
   "cell_type": "markdown",
   "metadata": {},
   "source": [
    "the number of samples in one class outnumber the number of samples in other class by a lot.         \n",
    "In these kinds of cases, it is not advisable to use accuracy as an evaluation metric as it          \n",
    "is not representative of the data. \n",
    "\n",
    "In these cases, it's better to look at other metrics such as precision      \n",
    "\n",
    "- True positive(TP)\n",
    "- True negative(TN)\n",
    "- False positive(FP)\n",
    "- False negative(FN)"
   ]
  },
  {
   "cell_type": "markdown",
   "metadata": {},
   "source": [
    "Accuracy Score = (TP + TN) / (TP + TN + FP + FN)        \n",
    "Precision = TP / (TP + FP)"
   ]
  },
  {
   "cell_type": "markdown",
   "metadata": {},
   "source": []
  },
  {
   "cell_type": "code",
   "execution_count": 2,
   "metadata": {},
   "outputs": [],
   "source": [
    "def true_positive(y_true, y_pred): \n",
    "    \"\"\" \n",
    "    Function to calculate True Positives \n",
    "    :param y_true: list of true values \n",
    "    :param y_pred: list of predicted values \n",
    "    :return: number of true positives \n",
    "    \"\"\" \n",
    "    # initialize \n",
    "    tp = 0 \n",
    "    for yt, yp in zip(y_true, y_pred): \n",
    "        if yt == 1 and yp == 1: \n",
    "            tp += 1 \n",
    "    return tp"
   ]
  },
  {
   "cell_type": "code",
   "execution_count": 3,
   "metadata": {},
   "outputs": [],
   "source": [
    "def true_negative(y_true, y_pred): \n",
    "    \"\"\" \n",
    "    Function to calculate True Negatives \n",
    "    :param y_true: list of true values \n",
    "    :param y_pred: list of predicted values \n",
    "    :return: number of true negatives \n",
    "    \"\"\" \n",
    "    # initialize \n",
    "    tn = 0 \n",
    "    for yt, yp in zip(y_true, y_pred): \n",
    "        if yt == 0 and yp == 0: \n",
    "            tn += 1 \n",
    "    return tn"
   ]
  },
  {
   "cell_type": "code",
   "execution_count": 4,
   "metadata": {},
   "outputs": [],
   "source": [
    "def false_positive(y_true, y_pred): \n",
    "    \"\"\" \n",
    "    Function to calculate False Positives \n",
    "    :param y_true: list of true values \n",
    "    :param y_pred: list of predicted values \n",
    "    :return: number of false positives \n",
    "    \"\"\" \n",
    "    # initialize \n",
    "    fp = 0 \n",
    "    for yt, yp in zip(y_true, y_pred): \n",
    "        if yt == 0 and yp == 1: \n",
    "            fp += 1 \n",
    "    return fp"
   ]
  },
  {
   "cell_type": "code",
   "execution_count": 5,
   "metadata": {},
   "outputs": [],
   "source": [
    "def false_negative(y_true, y_pred): \n",
    "    \"\"\" \n",
    "    Function to calculate False Negatives \n",
    "    :param y_true: list of true values \n",
    "    :param y_pred: list of predicted values \n",
    "    :return: number of false negatives \n",
    "    \"\"\" \n",
    "    # initialize \n",
    "    fn = 0 \n",
    "    for yt, yp in zip(y_true, y_pred): \n",
    "        if yt == 1 and yp == 0: \n",
    "            fn += 1 \n",
    "    return fn"
   ]
  },
  {
   "cell_type": "code",
   "execution_count": 6,
   "metadata": {},
   "outputs": [],
   "source": [
    "l1 = [0, 1, 1, 1, 0, 0, 1, 0, 0, 1]\n",
    "l2 = [0, 1, 0, 1, 0, 0, 1, 1, 1, 1]"
   ]
  },
  {
   "cell_type": "code",
   "execution_count": 7,
   "metadata": {},
   "outputs": [
    {
     "data": {
      "text/plain": [
       "4"
      ]
     },
     "execution_count": 7,
     "metadata": {},
     "output_type": "execute_result"
    }
   ],
   "source": [
    "true_positive(l1, l2)"
   ]
  },
  {
   "cell_type": "code",
   "execution_count": 8,
   "metadata": {},
   "outputs": [
    {
     "data": {
      "text/plain": [
       "2"
      ]
     },
     "execution_count": 8,
     "metadata": {},
     "output_type": "execute_result"
    }
   ],
   "source": [
    "false_positive(l1, l2)"
   ]
  },
  {
   "cell_type": "code",
   "execution_count": 9,
   "metadata": {},
   "outputs": [
    {
     "data": {
      "text/plain": [
       "1"
      ]
     },
     "execution_count": 9,
     "metadata": {},
     "output_type": "execute_result"
    }
   ],
   "source": [
    "false_negative(l1, l2)"
   ]
  },
  {
   "cell_type": "code",
   "execution_count": 10,
   "metadata": {},
   "outputs": [
    {
     "data": {
      "text/plain": [
       "3"
      ]
     },
     "execution_count": 10,
     "metadata": {},
     "output_type": "execute_result"
    }
   ],
   "source": [
    "true_negative(l1, l2)"
   ]
  },
  {
   "cell_type": "code",
   "execution_count": 11,
   "metadata": {},
   "outputs": [],
   "source": [
    "def accuracy_v2(y_true, y_pred): \n",
    "    \"\"\" \n",
    "    Function to calculate accuracy using tp/tn/fp/fn \n",
    "    :param y_true: list of true values \n",
    "    :param y_pred: list of predicted values \n",
    "    :return: accuracy \n",
    "    \"\"\" \n",
    "    tp = true_positive(y_true, y_pred) \n",
    "    fp = false_positive(y_true, y_pred) \n",
    "    fn = false_negative(y_true, y_pred) \n",
    "    tn = true_negative(y_true, y_pred) \n",
    "    accuracy_score = (tp + tn) / (tp + tn + fp + fn) \n",
    "    return accuracy_score"
   ]
  },
  {
   "cell_type": "code",
   "execution_count": 12,
   "metadata": {},
   "outputs": [
    {
     "data": {
      "text/plain": [
       "0.7"
      ]
     },
     "execution_count": 12,
     "metadata": {},
     "output_type": "execute_result"
    }
   ],
   "source": [
    "accuracy_v2(l1, l2)"
   ]
  },
  {
   "cell_type": "code",
   "execution_count": 13,
   "metadata": {},
   "outputs": [
    {
     "data": {
      "text/plain": [
       "0.7"
      ]
     },
     "execution_count": 13,
     "metadata": {},
     "output_type": "execute_result"
    }
   ],
   "source": [
    "metrics.accuracy_score(l1, l2)"
   ]
  },
  {
   "cell_type": "code",
   "execution_count": 14,
   "metadata": {},
   "outputs": [],
   "source": [
    "def precision(y_true, y_pred): \n",
    "    \"\"\" \n",
    "    Function to calculate precision \n",
    "    :param y_true: list of true values \n",
    "    :param y_pred: list of predicted values \n",
    "    :return: precision score \n",
    "    \"\"\" \n",
    "    tp = true_positive(y_true, y_pred) \n",
    "    fp = false_positive(y_true, y_pred) \n",
    "    precision = tp / (tp + fp) \n",
    "    return precision"
   ]
  },
  {
   "cell_type": "code",
   "execution_count": 15,
   "metadata": {},
   "outputs": [
    {
     "data": {
      "text/plain": [
       "0.6666666666666666"
      ]
     },
     "execution_count": 15,
     "metadata": {},
     "output_type": "execute_result"
    }
   ],
   "source": [
    "precision(l1, l2)"
   ]
  },
  {
   "cell_type": "markdown",
   "metadata": {},
   "source": [
    "### 03 Recall"
   ]
  },
  {
   "cell_type": "markdown",
   "metadata": {},
   "source": [
    "Recall = TP / (TP + FN)"
   ]
  },
  {
   "cell_type": "code",
   "execution_count": 16,
   "metadata": {},
   "outputs": [],
   "source": [
    "def recall(y_true, y_pred): \n",
    "    \"\"\" \n",
    "    Function to calculate recall \n",
    "    :param y_true: list of true values \n",
    "    :param y_pred: list of predicted values \n",
    "    :return: recall score \n",
    "    \"\"\" \n",
    "    tp = true_positive(y_true, y_pred) \n",
    "    fn = false_negative(y_true, y_pred) \n",
    "    recall = tp / (tp + fn) \n",
    "    return recall"
   ]
  },
  {
   "cell_type": "code",
   "execution_count": 17,
   "metadata": {},
   "outputs": [
    {
     "data": {
      "text/plain": [
       "0.8"
      ]
     },
     "execution_count": 17,
     "metadata": {},
     "output_type": "execute_result"
    }
   ],
   "source": [
    "recall(l1, l2)"
   ]
  },
  {
   "cell_type": "markdown",
   "metadata": {},
   "source": [
    "For a good model, our precision and recall values should be high."
   ]
  },
  {
   "cell_type": "markdown",
   "metadata": {},
   "source": [
    "Most of the models predict a probability, and when we predict, we usually choose \n",
    "this threshold to be 0.5. This threshold is not always ideal, and depending on this \n",
    "threshold, your value of precision and recall can change drastically. If for every \n",
    "threshold we choose, we calculate the precision and recall values, we can create a \n",
    "plot between these sets of values. This plot or curve is known as the precision-recall \n",
    "curve.  "
   ]
  },
  {
   "cell_type": "code",
   "execution_count": 18,
   "metadata": {},
   "outputs": [],
   "source": [
    "y_true = [0, 0, 0, 1, 0, 0, 0, 0, 0, 0,\n",
    "1, 0, 0, 0, 0, 0, 0, 0, 1, 0] \n",
    "\n",
    "y_pred = [0.02638412, 0.11114267, 0.31620708,         \n",
    "0.0490937,  0.0191491,  0.17554844,         \n",
    "0.15952202, 0.03819563, 0.11639273, \n",
    "0.079377, 0.08584789, 0.39095342, \n",
    "0.27259048, 0.03447096, 0.04644807, \n",
    "0.03543574, 0.18521942, 0.05934905, \n",
    "0.61977213, 0.33056815]"
   ]
  },
  {
   "cell_type": "code",
   "execution_count": 19,
   "metadata": {},
   "outputs": [],
   "source": [
    "precisions = [] \n",
    "recalls = [] \n",
    "# how we assumed these thresholds is a long story \n",
    "thresholds = [0.0490937 , 0.05934905, 0.079377,  \n",
    "0.08584789, 0.11114267, 0.11639273,  \n",
    "0.15952202, 0.17554844, 0.18521942,  \n",
    "0.27259048, 0.31620708, 0.33056815,  \n",
    "0.39095342, 0.61977213] \n",
    "# for every threshold, calculate predictions in binary \n",
    "# and append calculated precisions and recalls \n",
    "# to their respective lists \n",
    "for i in thresholds: \n",
    "    temp_prediction = [1 if x >= i else 0 for x in y_pred]\n",
    "    p = precision(y_true, temp_prediction) \n",
    "    r = recall(y_true, temp_prediction) \n",
    "    precisions.append(p) \n",
    "    recalls.append(r)"
   ]
  },
  {
   "cell_type": "code",
   "execution_count": 20,
   "metadata": {},
   "outputs": [],
   "source": [
    "import matplotlib.pyplot as plt"
   ]
  },
  {
   "cell_type": "code",
   "execution_count": 21,
   "metadata": {},
   "outputs": [
    {
     "data": {
      "text/plain": [
       "Text(0, 0.5, 'Precision')"
      ]
     },
     "execution_count": 21,
     "metadata": {},
     "output_type": "execute_result"
    },
    {
     "data": {
      "image/png": "[encoded data removed]",
      "text/plain": [
       "<Figure size 700x700 with 1 Axes>"
      ]
     },
     "metadata": {},
     "output_type": "display_data"
    }
   ],
   "source": [
    "plt.figure(figsize=(7, 7)) \n",
    "plt.plot(recalls, precisions) \n",
    "plt.xlabel('Recall', fontsize=15) \n",
    "plt.ylabel('Precision', fontsize=15) "
   ]
  },
  {
   "cell_type": "markdown",
   "metadata": {},
   "source": [
    "### 04 F1 score"
   ]
  },
  {
   "cell_type": "markdown",
   "metadata": {},
   "source": [
    "Both precision and recall range from 0 to 1 and a value closer to 1 is better.      \n",
    "F1 score is a metric that combines both precision and recall. It is defined as a simple         \n",
    "weighted average (harmonic mean) of precision and recall. If we denote precision        \n",
    "using P and recall using R, we can represent the F1 score as:       \n",
    "F1 = 2PR / (P + R)      \n",
    "A little bit of mathematics will lead you to the following equation of F1 based on      \n",
    "TP, FP and FN       \n",
    "F1 = 2TP / (2TP + FP + FN)      "
   ]
  },
  {
   "cell_type": "markdown",
   "metadata": {},
   "source": []
  },
  {
   "cell_type": "code",
   "execution_count": 22,
   "metadata": {},
   "outputs": [],
   "source": [
    "def f1(y_true, y_pred): \n",
    "    \"\"\" \n",
    "    Function to calculate f1 score \n",
    "    :param y_true: list of true values \n",
    "    :param y_pred: list of predicted values \n",
    "    :return: f1 score \n",
    "    \"\"\" \n",
    "    p = precision(y_true, y_pred) \n",
    "    r = recall(y_true, y_pred) \n",
    "    score = 2 * p * r / (p + r) \n",
    "    return score"
   ]
  },
  {
   "cell_type": "code",
   "execution_count": 23,
   "metadata": {},
   "outputs": [
    {
     "name": "stdout",
     "output_type": "stream",
     "text": [
      "0.4\n"
     ]
    }
   ],
   "source": [
    "y_true = [0, 0, 0, 1, 0, 0, 0, 0, 0, 0,\n",
    "1, 0, 0, 0, 0, 0, 0, 0, 1, 0]\n",
    "\n",
    "y_pred = [0, 0, 1, 0, 0, 0, 1, 0, 0, 1,\n",
    "1, 0, 0, 1, 1, 0, 0, 0, 1, 0]\n",
    "\n",
    "print(f1(y_true, y_pred))"
   ]
  },
  {
   "cell_type": "code",
   "execution_count": 24,
   "metadata": {},
   "outputs": [
    {
     "data": {
      "text/plain": [
       "0.4"
      ]
     },
     "execution_count": 24,
     "metadata": {},
     "output_type": "execute_result"
    }
   ],
   "source": [
    "from sklearn import metrics\n",
    "\n",
    "metrics.f1_score(y_true, y_pred)"
   ]
  },
  {
   "cell_type": "markdown",
   "metadata": {},
   "source": [
    "Instead of looking at precision and recall individually, you can also just look at F1 score.        \n",
    "Same as for precision, recall and accuracy, F1 score also ranges from 0 to 1,       \n",
    "and a perfect prediction model has an F1 of 1.      \n",
    "When dealing with datasets that have skewed targets, we should look at F1(or precision and recall)      \n",
    "instead of accuracy.        \n",
    "\n",
    "Then there are other crucial terms that we should know about.\n",
    "\n",
    "The first one is TPR or True Positive Rate, which is the same as recall.\n",
    "\n",
    "TPR = TP/(TP + FN)      "
   ]
  },
  {
   "cell_type": "code",
   "execution_count": null,
   "metadata": {},
   "outputs": [],
   "source": [
    "def tpr(y_true, y_pred): \n",
    "    \"\"\" \n",
    "    Function to calculate tpr \n",
    "    :param y_true: list of true values \n",
    "    :param y_pred: list of predicted values \n",
    "    :return: tpr/recall \n",
    "    \"\"\" \n",
    "    return recall(y_true, y_pred)"
   ]
  },
  {
   "cell_type": "markdown",
   "metadata": {},
   "source": [
    "TPR or recall is also known as sensitivity.     \n",
    "And FPR or False Positive Rate, which is defined as:        \n",
    "FPR = FP/(TN+FP)        "
   ]
  },
  {
   "cell_type": "code",
   "execution_count": 25,
   "metadata": {},
   "outputs": [],
   "source": [
    "def fpr(y_true, y_pred):\n",
    "    \"\"\" \n",
    "    Function to calculate fpr \n",
    "    :param y_true: list of true values \n",
    "    :param y_pred: list of predicted values \n",
    "    :return: fpr \n",
    "    \"\"\" \n",
    "    fp = false_positive(y_true, y_pred) \n",
    "    tn = true_negative(y_true, y_pred) \n",
    "    return fp / (fp + tn)"
   ]
  },
  {
   "cell_type": "markdown",
   "metadata": {},
   "source": [
    "And 1-FPR is known as specificity or True Negative Rate or TNR.     \n",
    "There are a lot of terms, but the most important ones out of these are          \n",
    "only TPR and FPR."
   ]
  },
  {
   "cell_type": "code",
   "execution_count": null,
   "metadata": {},
   "outputs": [],
   "source": []
  },
  {
   "cell_type": "code",
   "execution_count": null,
   "metadata": {},
   "outputs": [],
   "source": []
  },
  {
   "cell_type": "code",
   "execution_count": null,
   "metadata": {},
   "outputs": [],
   "source": []
  }
 ],
 "metadata": {
  "kernelspec": {
   "display_name": "deep_py312",
   "language": "python",
   "name": "python3"
  },
  "language_info": {
   "codemirror_mode": {
    "name": "ipython",
    "version": 3
   },
   "file_extension": ".py",
   "mimetype": "text/x-python",
   "name": "python",
   "nbconvert_exporter": "python",
   "pygments_lexer": "ipython3",
   "version": "3.12.9"
  }
 },
 "nbformat": 4,
 "nbformat_minor": 2
}
